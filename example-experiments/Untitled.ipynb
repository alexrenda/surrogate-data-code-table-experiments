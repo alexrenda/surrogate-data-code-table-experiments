{
 "cells": [
  {
   "cell_type": "code",
   "execution_count": 1,
   "id": "8f1370dc",
   "metadata": {},
   "outputs": [],
   "source": [
    "import plot"
   ]
  },
  {
   "cell_type": "code",
   "execution_count": 2,
   "id": "d6bcbd08",
   "metadata": {},
   "outputs": [],
   "source": [
    "import multiprocessing as mp"
   ]
  },
  {
   "cell_type": "code",
   "execution_count": 8,
   "id": "38549ae4",
   "metadata": {},
   "outputs": [],
   "source": [
    "import itertools\n",
    "import random\n",
    "paths = ['ll', 'lr', 'r']\n",
    "paths = ['codes/huber.n:{}']\n",
    "tasks = list(itertools.product(paths, plot.mns))\n",
    "random.shuffle(tasks)"
   ]
  },
  {
   "cell_type": "code",
   "execution_count": 9,
   "id": "3e8c7bd1",
   "metadata": {},
   "outputs": [
    {
     "data": {
      "text/plain": [
       "[('lr', 10),\n",
       " ('lr', 316),\n",
       " ('ll', 1000),\n",
       " ('ll', 10),\n",
       " ('r', 10),\n",
       " ('lr', 32),\n",
       " ('ll', 316),\n",
       " ('ll', 32),\n",
       " ('r', 1000),\n",
       " ('lr', 100),\n",
       " ('r', 32),\n",
       " ('lr', 1000),\n",
       " ('r', 100),\n",
       " ('r', 316),\n",
       " ('ll', 100)]"
      ]
     },
     "execution_count": 9,
     "metadata": {},
     "output_type": "execute_result"
    }
   ],
   "source": [
    "tasks"
   ]
  },
  {
   "cell_type": "code",
   "execution_count": null,
   "id": "e62b1885",
   "metadata": {},
   "outputs": [],
   "source": [
    "with mp.Pool(3) as p:\n",
    "    "
   ]
  },
  {
   "cell_type": "code",
   "execution_count": 5,
   "id": "a8a48b8f",
   "metadata": {},
   "outputs": [
    {
     "data": {
      "text/plain": [
       "array([  10,   32,  100,  316, 1000])"
      ]
     },
     "execution_count": 5,
     "metadata": {},
     "output_type": "execute_result"
    }
   ],
   "source": [
    "plot.mns"
   ]
  }
 ],
 "metadata": {
  "kernelspec": {
   "display_name": "Python 3 (ipykernel)",
   "language": "python",
   "name": "python3"
  },
  "language_info": {
   "codemirror_mode": {
    "name": "ipython",
    "version": 3
   },
   "file_extension": ".py",
   "mimetype": "text/x-python",
   "name": "python",
   "nbconvert_exporter": "python",
   "pygments_lexer": "ipython3",
   "version": "3.9.16"
  }
 },
 "nbformat": 4,
 "nbformat_minor": 5
}
